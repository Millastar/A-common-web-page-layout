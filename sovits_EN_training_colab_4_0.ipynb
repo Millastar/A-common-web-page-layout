{
  "nbformat": 4,
  "nbformat_minor": 0,
  "metadata": {
    "colab": {
      "provenance": [],
      "include_colab_link": true
    },
    "kernelspec": {
      "name": "python3",
      "display_name": "Python 3"
    },
    "language_info": {
      "name": "python"
    },
    "accelerator": "GPU",
    "gpuClass": "standard"
  },
  "cells": [
    {
      "cell_type": "markdown",
      "metadata": {
        "id": "view-in-github",
        "colab_type": "text"
      },
      "source": [
        "<a href=\"https://colab.research.google.com/github/Millastar/A-common-web-page-layout/blob/main/sovits_EN_training_colab_4_0.ipynb\" target=\"_parent\"><img src=\"https://colab.research.google.com/assets/colab-badge.svg\" alt=\"Open In Colab\"/></a>"
      ]
    },
    {
      "cell_type": "code",
      "source": [
        "# Check graphics card\n",
        "!nvidia-smi"
      ],
      "metadata": {
        "id": "0gQcIZ8RsOkn"
      },
      "execution_count": null,
      "outputs": []
    },
    {
      "cell_type": "code",
      "execution_count": null,
      "metadata": {
        "id": "LS0OPRkL4Pme",
        "cellView": "form"
      },
      "outputs": [],
      "source": [
        "#@title Clone github repo\n",
        "!git clone https://github.com/effusiveperiscope/so-vits-svc -b eff-4.0"
      ]
    },
    {
      "cell_type": "code",
      "source": [
        "#@title Install dependencies\n",
        "%cd /content/so-vits-svc\n",
        "!python -m pip install --upgrade pip setuptools numpy numba\n",
        "!pip install pyworld==0.3.1 praat-parselmouth\n",
        "!pip install fairseq==0.12.2 librosa==0.8.1\n",
        "!pip install torchcrepe tensorboardX"
      ],
      "metadata": {
        "id": "zXBLkXxL4T1O",
        "cellView": "form"
      },
      "execution_count": null,
      "outputs": []
    },
    {
      "cell_type": "code",
      "source": [
        "#@title Download ContentVec model file\n",
        "!wget -P hubert/ https://huggingface.co/therealvul/so-vits-svc-4.0-init/resolve/main/checkpoint_best_legacy_500.pt"
      ],
      "metadata": {
        "id": "pCqf3W0d6ify",
        "cellView": "form"
      },
      "execution_count": null,
      "outputs": []
    },
    {
      "cell_type": "markdown",
      "source": [
        "# Dataset preprocessing"
      ],
      "metadata": {
        "id": "k1qadJBFehMo"
      }
    },
    {
      "cell_type": "code",
      "source": [
        "#@title Mount google drive\n",
        "#@markdown Mount google drive, which will be used to hold your dataset files.\n",
        "from google.colab import drive\n",
        "drive.mount('/content/drive')"
      ],
      "metadata": {
        "id": "wmUkpUmfn_Hs",
        "cellView": "form"
      },
      "execution_count": null,
      "outputs": []
    },
    {
      "cell_type": "markdown",
      "source": [
        "This processing script can preprocess multiple speakers at one time and generate multi-speaker filelists and corresponding configuration files.\n",
        "\n",
        "First, create a folder in your Google Drive called \"dataset\" (no quotes).\n",
        "\n",
        "Then, for each character you intend to train, upload the training data to Google Drive in the form of a .zip enclosing your speaker dataset (i.e. the .zip should enclose folders containing .wav files for each speaker).\n",
        "\n",
        "Use the dialog below to load the dataset from Google Drive.\n",
        "\n"
      ],
      "metadata": {
        "id": "kBlju6Q3lSM6"
      }
    },
    {
      "cell_type": "code",
      "source": [
        "#@title Load the dataset from .zip in Google Drive for preprocessing\n",
        "#@markdown Name of the zip folder\n",
        "DATASETNAME = \"Chrysalis\"  #@param {type:\"string\"}\n",
        "#@markdown Zip path (usually do not need to change this unless you uploaded to a different directory)\n",
        "ZIP_PATH = \"/content/drive/MyDrive/dataset/\"  #@param {type:\"string\"}\n",
        "ZIP_NAME = ZIP_PATH + DATASETNAME\n",
        "\n",
        "!unzip -d /content/so-vits-svc/dataset_raw {ZIP_NAME}.zip"
      ],
      "metadata": {
        "id": "U05CXlAipvJR",
        "cellView": "form"
      },
      "execution_count": null,
      "outputs": []
    },
    {
      "cell_type": "code",
      "source": [
        "#@title Resample to 44.1k\n",
        "!python resample.py"
      ],
      "metadata": {
        "id": "_ThKTzYs5CfL",
        "cellView": "form"
      },
      "execution_count": null,
      "outputs": []
    },
    {
      "cell_type": "code",
      "source": [
        "#@title Segment training set and generate configuration files\n",
        "!python preprocess_flist_config.py"
      ],
      "metadata": {
        "id": "svITReeL5N8K",
        "cellView": "form"
      },
      "execution_count": null,
      "outputs": []
    },
    {
      "cell_type": "code",
      "source": [
        "#@title Generate hubert and f0\n",
        "!python preprocess_hubert_f0.py"
      ],
      "metadata": {
        "id": "xHUXMi836DMe",
        "cellView": "form"
      },
      "execution_count": null,
      "outputs": []
    },
    {
      "cell_type": "code",
      "source": [
        "#@title Save preprocessed dataset files to Google Drive (for training convenience)\n",
        "#Compress dataset folder\n",
        "!zip -r dataset.zip /content/so-vits-svc/dataset\n",
        "#@markdown Customize name of preprocessed dataset folder to avoid conflicts.\n",
        "dataset_name_drive = \"44k_dataset\"  #@param {type:\"string\"}\n",
        "DATASET_PATH_DRIVE = \"/content/drive/MyDrive/dataset/\" + dataset_name_drive\n",
        "!mkdir -p {DATASET_PATH_DRIVE}\n",
        "\n",
        "!cp /content/so-vits-svc/dataset.zip \"{DATASET_PATH_DRIVE}\"\n",
        "!cp configs/config.json \"{DATASET_PATH_DRIVE}\"\n",
        "!cp filelists/train.txt \"{DATASET_PATH_DRIVE}\"\n",
        "!cp filelists/val.txt \"{DATASET_PATH_DRIVE}\""
      ],
      "metadata": {
        "id": "Wo4OTmTAUXgj",
        "cellView": "form"
      },
      "execution_count": null,
      "outputs": []
    },
    {
      "cell_type": "code",
      "source": [
        "#@title Load preprocessed dataset files from Google Drive (no need to run first round)\n",
        "#@markdown If you already have preprocessed dataset files on Google Drive, you can load them here instead of re-running the preprocessing steps.\n",
        "back_up_name = \"three_dataset\"  #@param {type:\"string\"}\n",
        "BACK_UP_DATASET_PATH = \"/content/drive/MyDrive/dataset/\" + back_up_name\n",
        "!unzip {BACK_UP_DATASET_PATH}/dataset.zip -d /\n",
        "!cp {BACK_UP_DATASET_PATH}/config.json /content/so-vits-svc/configs/config.json \n",
        "!cp {BACK_UP_DATASET_PATH}/val.txt filelists/val.txt\n",
        "!cp {BACK_UP_DATASET_PATH}/train.txt filelists/train.txt"
      ],
      "metadata": {
        "id": "P2G6v_6zblWK",
        "cellView": "form"
      },
      "execution_count": null,
      "outputs": []
    },
    {
      "cell_type": "markdown",
      "source": [
        "# Training"
      ],
      "metadata": {
        "id": "ENoH-pShel7w"
      }
    },
    {
      "cell_type": "code",
      "source": [
        "#@title  Model saving/pretrained model preferences\n",
        "Clone = \"44k\"\n",
        "%cd /content/so-vits-svc\n",
        "\n",
        "#@markdown **Save the trained model files to Google Drive instead of the colab runtime filesystem. You also need to check and execute this when resuming training. If you are short on Drive space you may want to uncheck this (in which case you must use the file menu to manually download the model checkpoints in so-vits-svc/logs/ yourself and copy the latest checkpoint back into so-vits-svc/logs/ to resume training).**\n",
        "Save_to_drive = False #@param {type:\"boolean\"}\n",
        "if Save_to_drive:\n",
        "  !rm -rf /content/so-vits-svc/logs/\"{Clone}\"\n",
        "  !mkdir -p /content/drive/MyDrive/\"{Clone}\"\n",
        "  !ln -s /content/drive/MyDrive/\"{Clone}\" /content/so-vits-svc/logs/\"{Clone}\"\n",
        "\n",
        "#@markdown **Download the pre-trained model for the first training. For continuing training, use the checkpoints saved by yourself after continuing to train.**\n",
        "pre_pth = True #@param {type:\"boolean\"}\n",
        "if pre_pth:\n",
        "  !wget -O logs/\"{Clone}\"/G_0.pth -P logs/\"{Clone}\"/ https://huggingface.co/therealvul/so-vits-svc-4.0-init/resolve/main/G_0.pth\n",
        "  !wget -O logs/\"{Clone}\"/D_0.pth -P logs/\"{Clone}\"/ https://huggingface.co/therealvul/so-vits-svc-4.0-init/resolve/main/D_0.pth\n"
      ],
      "metadata": {
        "id": "l8J2ubh9KV5J",
        "cellView": "form"
      },
      "execution_count": null,
      "outputs": []
    },
    {
      "cell_type": "code",
      "source": [
        "#@title  Start training\n",
        "#@markdown **Start training**\n",
        "Clone = \"44k\"\n",
        "\n",
        "#@markdown **Enable tensorboard for data visualization**\n",
        "tensorboard_on = True #@param {type:\"boolean\"}\n",
        "if tensorboard_on:\n",
        "  %load_ext tensorboard\n",
        "  %tensorboard --logdir logs/\"{Clone}\"\n",
        "\n",
        "!python train.py -c configs/config.json -m \"{Clone}\"\n"
      ],
      "metadata": {
        "id": "-hEFFTCfZf57",
        "cellView": "form"
      },
      "execution_count": null,
      "outputs": []
    },
    {
      "cell_type": "code",
      "source": [
        "#@title Train cluster model\n",
        "!python cluster/train_cluster.py"
      ],
      "metadata": {
        "cellView": "form",
        "id": "3Lx1JjFg8FSB"
      },
      "execution_count": null,
      "outputs": []
    },
    {
      "cell_type": "code",
      "source": [
        "#@title Convenience cell for manual backup to Google Drive\n",
        "#@markdown This cell allows for manually saving models to Google Drive (rather than your local filesystem). The code for this cell should be modified to point to the desired checkpoints to save to Google Drive.\n",
        "!mv /content/so-vits-svc/logs/44k/G_1000.pth /content/drive/MyDrive\n",
        "!mv /content/so-vits-svc/logs/44k/D_1000.pth /content/drive/MyDrive"
      ],
      "metadata": {
        "id": "KiNCWprSPlKH",
        "cellView": "form"
      },
      "execution_count": null,
      "outputs": []
    }
  ]
}