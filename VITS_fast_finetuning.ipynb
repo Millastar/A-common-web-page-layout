{
  "nbformat": 4,
  "nbformat_minor": 0,
  "metadata": {
    "colab": {
      "provenance": [],
      "private_outputs": true,
      "include_colab_link": true
    },
    "kernelspec": {
      "name": "python3",
      "display_name": "Python 3"
    },
    "language_info": {
      "name": "python"
    },
    "accelerator": "GPU",
    "gpuClass": "standard"
  },
  "cells": [
    {
      "cell_type": "markdown",
      "metadata": {
        "id": "view-in-github",
        "colab_type": "text"
      },
      "source": [
        "<a href=\"https://colab.research.google.com/github/Millastar/A-common-web-page-layout/blob/main/VITS_fast_finetuning.ipynb\" target=\"_parent\"><img src=\"https://colab.research.google.com/assets/colab-badge.svg\" alt=\"Open In Colab\"/></a>"
      ]
    },
    {
      "cell_type": "code",
      "source": [
        "# 查看GPU配置\n",
        "# Check GPU configuration\n",
        "!nvidia-smi"
      ],
      "metadata": {
        "id": "03vVx0mDtuwN"
      },
      "execution_count": null,
      "outputs": []
    },
    {
      "cell_type": "markdown",
      "source": [
        "#STEP 0  \n",
        "##本笔记本必须在GPU模式下运行，可以运行上方的nvidia-smi查看GPU是否装载。若没有，点击左上角>修改>笔记本设置，把硬件加速改成GPU。  \n",
        "##！！！开始之前请仔细阅读[数据集上传格式要求](https://github.com/Plachtaa/VITS-fast-fine-tuning/blob/main/DATA.MD)避免后续因为读取不到音频文件而报错。！！！\n",
        "##Note: GPU is necessary for this notebook. Check whether your GPU is loaded before you start.Please read [Requirements for uploaded data format](https://github.com/Plachtaa/VITS-fast-fine-tuning/blob/main/DATA_EN.MD) carefully to avoid any possible error caused by voice file not found.\n"
      ],
      "metadata": {
        "id": "fwJ-lNbOtp-9"
      }
    },
    {
      "cell_type": "code",
      "source": [
        "#@title STEP 1 复制代码库并安装运行环境\n",
        "#@markdown #STEP 1 (6 min)\n",
        "#@markdown ##复制代码库并安装运行环境\n",
        "#@markdown ##Clone repository & Build environment\n",
        "!apt-get install python3.8\n",
        "!cp -r /usr/local/lib/python3.10/dist-packages /usr/local/lib/python3.8/\n",
        "!git clone https://github.com/Plachtaa/VITS-fast-fine-tuning.git\n",
        "!python3.8 -m pip install --upgrade --force-reinstall regex\n",
        "!python3.8 -m pip install --upgrade --force-reinstall numba\n",
        "!python3.8 -m pip install --force-reinstall soundfile\n",
        "!python3.8 -m pip install --force-reinstall gradio\n",
        "!python3.8 -m pip install imageio==2.4.1\n",
        "!python3.8 -m pip install --upgrade youtube-dl\n",
        "!python3.8 -m pip install moviepy\n",
        "%cd VITS-fast-fine-tuning\n",
        "!python3.8 -m pip install -r requirements.txt\n",
        "!python3.8 -m pip install --upgrade pyzmq\n",
        "# build monotonic align\n",
        "%cd monotonic_align/\n",
        "!mkdir monotonic_align\n",
        "!python3.8 setup.py build_ext --inplace\n",
        "%cd ..\n",
        "!mkdir pretrained_models\n",
        "# download data for fine-tuning\n",
        "!wget https://huggingface.co/datasets/Plachta/sampled_audio4ft/resolve/main/sampled_audio4ft_v2.zip\n",
        "!unzip sampled_audio4ft_v2.zip\n",
        "# create necessary directories\n",
        "!mkdir video_data\n",
        "!mkdir raw_audio\n",
        "!mkdir denoised_audio\n",
        "!mkdir custom_character_voice\n",
        "!mkdir segmented_character_voice"
      ],
      "metadata": {
        "id": "-XEdEXyTHVfD"
      },
      "execution_count": null,
      "outputs": []
    },
    {
      "cell_type": "code",
      "source": [
        "#@title STEP 1.5 选择预训练模型\n",
        "#@markdown ###STEP 1.5 选择预训练模型  \n",
        "#@markdown ###Choose pretrained model to start  \n",
        "#@markdown CJE为中日英三语模型，CJ为中日双语模型，C为纯中文模型\n",
        "\n",
        "#@markdown CJE for Chinese, Japanese & English model，CJ for Chinese & Japanese model\n",
        "PRETRAINED_MODEL = \"CJ\" #@param [\"CJE\",\"CJ\",\"C\"]\n",
        "if PRETRAINED_MODEL == \"CJ\":\n",
        "  !wget https://huggingface.co/spaces/sayashi/vits-uma-genshin-honkai/resolve/main/model/D_0-p.pth -O ./pretrained_models/D_0.pth\n",
        "  !wget https://huggingface.co/spaces/sayashi/vits-uma-genshin-honkai/resolve/main/model/G_0-p.pth -O ./pretrained_models/G_0.pth\n",
        "  !wget https://huggingface.co/spaces/sayashi/vits-uma-genshin-honkai/resolve/main/model/config.json -O ./configs/finetune_speaker.json\n",
        "elif PRETRAINED_MODEL == \"CJE\":\n",
        "  !wget https://huggingface.co/spaces/Plachta/VITS-Umamusume-voice-synthesizer/resolve/main/pretrained_models/D_trilingual.pth -O ./pretrained_models/D_0.pth\n",
        "  !wget https://huggingface.co/spaces/Plachta/VITS-Umamusume-voice-synthesizer/resolve/main/pretrained_models/G_trilingual.pth -O ./pretrained_models/G_0.pth\n",
        "  !wget https://huggingface.co/spaces/Plachta/VITS-Umamusume-voice-synthesizer/resolve/main/configs/uma_trilingual.json -O ./configs/finetune_speaker.json\n",
        "elif PRETRAINED_MODEL == \"C\": # 2023/4/22: 测试中，能用，但是不保证效果\n",
        "  !wget https://huggingface.co/datasets/Plachta/sampled_audio4ft/resolve/main/VITS-Chinese/D_0.pth -O ./pretrained_models/D_0.pth\n",
        "  !wget https://huggingface.co/datasets/Plachta/sampled_audio4ft/resolve/main/VITS-Chinese/G_0.pth -O ./pretrained_models/G_0.pth\n",
        "  !wget https://huggingface.co/datasets/Plachta/sampled_audio4ft/resolve/main/VITS-Chinese/config.json -O ./configs/finetune_speaker.json"
      ],
      "metadata": {
        "id": "2tzsb5mR6-d9"
      },
      "execution_count": null,
      "outputs": []
    },
    {
      "cell_type": "code",
      "source": [
        "#@title （可选）加载Google云端硬盘 / Mount Google drive\n",
        "#@title (optional) \n",
        "\n",
        "#@markdown 加载Google云端硬盘（更快地上传数据集文件）  \n",
        "\n",
        "#@markdown Mount Google drive for faster data upload\n",
        "from google.colab import drive\n",
        "drive.mount('/content/drive')"
      ],
      "metadata": {
        "cellView": "form",
        "id": "j1Q43oXND7Ih"
      },
      "execution_count": null,
      "outputs": []
    },
    {
      "cell_type": "markdown",
      "source": [
        "## STEP 2 上传您的角色音频数据  \n",
        "## Upload your character voices\n",
        "见[数据集上传选项](https://github.com/Plachtaa/VITS-fast-fine-tuning/blob/main/DATA.MD)  \n",
        "See [data upload options](https://github.com/Plachtaa/VITS-fast-fine-tuning/blob/main/DATA_EN.MD)\n"
      ],
      "metadata": {
        "id": "Z5G1jozPFd6p"
      }
    },
    {
      "cell_type": "markdown",
      "source": [
        "###STEP 2.1 上传短音频\n",
        "### Short audio upload"
      ],
      "metadata": {
        "id": "Wjpr__yCPp_J"
      }
    },
    {
      "cell_type": "code",
      "source": [
        "#@markdown 上传选项1：运行该代码块会出现一个文件上传的入口  \n",
        "\n",
        "#@markdown Upload option 1: Running this code block will prompt you to upload a file.\n",
        "%run scripts/voice_upload.py --type zip\n",
        "!unzip ./custom_character_voice/custom_character_voice.zip -d ./custom_character_voice/"
      ],
      "metadata": {
        "id": "hmNHnpBL5sgF"
      },
      "execution_count": null,
      "outputs": []
    },
    {
      "cell_type": "code",
      "source": [
        "#@markdown 上传选项2：若您装载了Google云端硬盘，可以直接从Google云端硬盘加载文件。将`.zip`文件上传云端硬盘后，在下面填写文件路径：  \n",
        "\n",
        "#@markdown Upload option 2: If you have mounted Google drive, you can load your files from Google drive directly. After uploading your `.zip` file to Google drive, fill in the path to your file below:\n",
        "ZIP_PATH = \"../drive/MyDrive/samples.zip\"  #@param {type:\"string\"}\n",
        "!cp {ZIP_PATH} ./custom_character_voice/custom_character_voice.zip\n",
        "!unzip ./custom_character_voice/custom_character_voice.zip -d ./custom_character_voice/"
      ],
      "metadata": {
        "id": "YOfe2ercNLal"
      },
      "execution_count": null,
      "outputs": []
    },
    {
      "cell_type": "markdown",
      "source": [
        "### STEP 2.2 上传长音频 （单个不应长于20分钟）\n",
        "### Long audio upload"
      ],
      "metadata": {
        "id": "FLGkhbvhP33f"
      }
    },
    {
      "cell_type": "code",
      "source": [
        "#@markdown 上传选项1：运行该代码块会出现一个文件上传的入口  \n",
        "\n",
        "#@markdown Upload option 1: Running this code block will prompt you to upload a file.\n",
        "%run scripts/voice_upload.py --type audio"
      ],
      "metadata": {
        "id": "unvLB7zrQTVA"
      },
      "execution_count": null,
      "outputs": []
    },
    {
      "cell_type": "code",
      "source": [
        "#@markdown 上传选项2：若您装载了Google云端硬盘，可以直接从Google云端硬盘加载文件。将所有长音频文件上传至云端硬盘的同一个文件夹下，在下面填写文件夹路径：  \n",
        "\n",
        "#@markdown Upload option 2: If you have mounted Google drive, you can load your files from Google drive directly. Put all the long audios under one folder, and fill in the path to your folder below:\n",
        "AUDIO_FOLDER_PATH = \"../drive/MyDrive/long_audios/\"  #@param {type:\"string\"}\n",
        "!cp {AUDIO_FOLDER_PATH}/* ./raw_audio/"
      ],
      "metadata": {
        "id": "-GWXUozRTZsj"
      },
      "execution_count": null,
      "outputs": []
    },
    {
      "cell_type": "markdown",
      "source": [
        "### STEP 2.3 上传视频（单个不应长于20分钟）\n",
        "### Video upload"
      ],
      "metadata": {
        "id": "5IDg3hAgWY0T"
      }
    },
    {
      "cell_type": "code",
      "source": [
        "#@markdown 上传选项1：运行该代码块会出现一个文件上传的入口  \n",
        "\n",
        "#@markdown Upload option 1: Running this code block will prompt you to upload a file.\n",
        "%run scripts/voice_upload.py --type video"
      ],
      "metadata": {
        "id": "A4Fk-06bXq7b"
      },
      "execution_count": null,
      "outputs": []
    },
    {
      "cell_type": "code",
      "source": [
        "#@markdown 上传选项2：若您装载了Google云端硬盘，可以直接从Google云端硬盘加载文件。将所有视频文件上传至云端硬盘的同一个文件夹下，在下面填写文件夹路径:  \n",
        "\n",
        "#@markdown Upload option 2: If you have mounted Google drive, you can load your files from Google drive directly. Put all the videos under one folder, and fill in the path to your folder below:\n",
        "VIDEO_FOLDER_PATH = \"../drive/MyDrive/videos/\"  #@param {type:\"string\"}\n",
        "!cp {VIDEO_FOLDER_PATH}/* ./video_data/"
      ],
      "metadata": {
        "id": "VuDsoW84X3BK"
      },
      "execution_count": null,
      "outputs": []
    },
    {
      "cell_type": "markdown",
      "source": [
        "### STEP 2.4 上传视频链接（单个不应长于20分钟）\n",
        "### Video link upload"
      ],
      "metadata": {
        "id": "n1UxoAnoY8Cp"
      }
    },
    {
      "cell_type": "code",
      "source": [
        "#@markdown 运行该代码块会出现一个文件上传的入口，上传单个`.txt`文件。若格式正确的话，视频会自动下载并将下载后的文件名打印在下方。  \n",
        "\n",
        "#@markdown Running this code block will prompt you to upload a file. \n",
        "#@markdown Please upload a single `.txt` file. If you have put the links in the correct format, \n",
        "#@markdown the videos will be automatically downloaded and displayed below.\n",
        "%run scripts/download_video.py\n",
        "!ls ./video_data/"
      ],
      "metadata": {
        "id": "ua_Blt02Cg97"
      },
      "execution_count": null,
      "outputs": []
    },
    {
      "cell_type": "markdown",
      "source": [
        "## STEP 3 自动处理所有上传的数据"
      ],
      "metadata": {
        "id": "YQGC-JyAaD2D"
      }
    },
    {
      "cell_type": "code",
      "source": [
        "#@markdown 运行该单元格会对所有上传的数据进行自动去背景音&标注。 \n",
        "#@markdown 由于需要调用Whisper和Demucs，运行时间可能较长。  \n",
        "\n",
        "#@markdown Running this codeblock will perform automatic vocal seperation & annotation. \n",
        "#@markdown Since this step uses Whisper & Demucs, it may take a while to complete.\n",
        "# 将所有视频（无论是上传的还是下载的，且必须是.mp4格式）抽取音频\n",
        "!python3.8 scripts/video2audio.py\n",
        "# 将所有音频（无论是上传的还是从视频抽取的，必须是.wav格式）去噪\n",
        "!python3.8 scripts/denoise_audio.py\n",
        "# 分割并标注长音频\n",
        "!python3.8 scripts/long_audio_transcribe.py --languages \"{PRETRAINED_MODEL}\" --whisper_size large\n",
        "# 标注短音频\n",
        "!python3.8 scripts/short_audio_transcribe.py --languages \"{PRETRAINED_MODEL}\" --whisper_size large\n",
        "# 底模采样率可能与辅助数据不同，需要重采样\n",
        "!python3.8 scripts/resample.py"
      ],
      "metadata": {
        "id": "aJOO7VsPQf3G"
      },
      "execution_count": null,
      "outputs": []
    },
    {
      "cell_type": "markdown",
      "source": [
        "#！！！训练质量相关：实验发现目前使用CJ模型+勾选ADD_AUXILIARY，对于中/日均能训练出最好的效果，第一次训练建议默认使用该组合！！！"
      ],
      "metadata": {
        "id": "WY12Ien-BUE7"
      }
    },
    {
      "cell_type": "code",
      "source": [
        "#@markdown ##STEP 3.5 \n",
        "\n",
        "\n",
        "#@markdown 运行该单元格会生成划分好训练/测试集的最终标注，以及配置文件  \n",
        "\n",
        "#@markdown Running this block will generate final annotations for training & validation, as well as config file.\n",
        "\n",
        "#@markdown 选择是否加入辅助训练数据：/ Choose whether to add auxiliary data: \n",
        "ADD_AUXILIARY = True #@param {type:\"boolean\"}\n",
        "#@markdown 辅助训练数据是从预训练的大数据集抽样得到的，作用在于防止模型在标注不准确的数据上形成错误映射。\n",
        "\n",
        "#@markdown Auxiliary data is to prevent overfitting when the audio samples are small or with low quality. \n",
        "\n",
        "#@markdown 以下情况请勾选：  \n",
        "\n",
        "#@markdown 总样本少于100条/样本质量一般或较差/样本来自爬取的视频  \n",
        "\n",
        "#@markdown 以下情况可以不勾选：  \n",
        "\n",
        "#@markdown 总样本量很大/样本质量很高/希望加速训练/只有二次元角色  \n",
        "\n",
        "# assert(not (ADD_AUXILIARY and PRETRAINED_MODEL != \"CJE\")), \"add auxiliary data is available only available for CJE model!\"\n",
        "if ADD_AUXILIARY:\n",
        "  !python3.8 preprocess_v2.py --add_auxiliary_data True --languages \"{PRETRAINED_MODEL}\"\n",
        "else:\n",
        "  !python3.8 preprocess_v2.py --languages \"{PRETRAINED_MODEL}\""
      ],
      "metadata": {
        "id": "G_IM97N2e6fk"
      },
      "execution_count": null,
      "outputs": []
    },
    {
      "cell_type": "markdown",
      "source": [
        "## STEP 4 开始训练"
      ],
      "metadata": {
        "id": "VA4hV2G_fyKz"
      }
    },
    {
      "cell_type": "code",
      "source": [
        "#@markdown #STEP 4 (>=20 min)\n",
        "#@markdown 开始微调模型。\n",
        "#@markdown 训练时长取决于你录入/上传的音频总数。\n",
        "\n",
        "#@markdown 根据声线和样本质量的不同，所需的训练epochs数也不同。 \n",
        "\n",
        "#@markdown 你也可以在Tensorboard中预览合成效果，若效果满意可提前停止。  \n",
        "\n",
        "#@markdown Model fine-tuning\n",
        "#@markdown Total time cost depends on the number of voices you recorded/uploaded.   \n",
        "\n",
        "#@markdown Best epoch number varies depending on different uploaded voices / sample quality.\n",
        "\n",
        "#@markdown You can also preview synthezied audio in Tensorboard, it's OK to shut down training manually if you find the quality is satisfying.\n",
        "import os\n",
        "os.environ['TENSORBOARD_BINARY'] = '/usr/local/bin/tensorboard'\n",
        "%reload_ext tensorboard\n",
        "%tensorboard --logdir \"./OUTPUT_MODEL\"\n",
        "Maximum_epochs = \"100\" #@param [20, 40, 60, 80, 100, 150]\n",
        "!python3.8 finetune_speaker_v2.py -m \"./OUTPUT_MODEL\" --max_epochs \"{Maximum_epochs}\" --drop_speaker_embed True"
      ],
      "metadata": {
        "id": "4gmpTNtcW2Bt"
      },
      "execution_count": null,
      "outputs": []
    },
    {
      "cell_type": "code",
      "source": [
        "#@markdown ### 微调完成后，在这里尝试效果。\n",
        "#@markdown ### 运行后会输出一个public URL, 点击进入网页版UI以使用模型\n",
        "#@markdown ### Try out TTS & VC quality here after fine-tuning is finished.\n",
        "!cp ./configs/modified_finetune_speaker.json ./finetune_speaker.json\n",
        "!python3.8 VC_inference.py --model_dir ./OUTPUT_MODEL/G_latest.pth --share True"
      ],
      "metadata": {
        "id": "SIK2XgD_ckgV"
      },
      "execution_count": null,
      "outputs": []
    },
    {
      "cell_type": "markdown",
      "source": [
        "# STEP 5 下载模型\n",
        "## 本地部署方法请见[README](https://github.com/Plachtaa/VITS-fast-fine-tuning/blob/main/README_ZH.md)"
      ],
      "metadata": {
        "id": "MXYxSdt-m3YK"
      }
    },
    {
      "cell_type": "code",
      "source": [
        "#@markdown ### 下载选项1：运行该单元格，浏览器会自动下载模型和配置文件\n",
        "#@markdown ### Download option 1: Running this codeblock will download model & config files by your browser.\n",
        "!python3.8 scripts/rearrange_speaker.py \n",
        "%run scripts/download_model.py"
      ],
      "metadata": {
        "id": "QcJQm6_ImD7o"
      },
      "execution_count": null,
      "outputs": []
    },
    {
      "cell_type": "code",
      "source": [
        "#@markdown ### 下载选项2：运行该单元格会将模型和配置文件保存到Google云端硬盘\n",
        "#@markdown ### Download option 2: Running this codeblock will save the mode & config files to your Google drive.\n",
        "!python3.8 scripts/rearrange_speaker.py \n",
        "!cp ./G_latest.pth ../drive/MyDrive/G_latest.pth\n",
        "!cp ./finetune_speaker.json ../drive/MyDrive/finetune_speaker.json\n",
        "!cp ./moegoe_config.json ../drive/MyDrive/moegoe_config.json"
      ],
      "metadata": {
        "id": "k13JBTommkTj"
      },
      "execution_count": null,
      "outputs": []
    },
    {
      "cell_type": "code",
      "source": [
        "#@markdown ### 运行该单元格会清空所有已上传的样本，需要时可使用\n",
        "#@markdown ### Running this codeblock will delete all voice samples you have uploaded. Use it if you need.\n",
        "!rm -rf ./custom_character_voice/*\n",
        "!rm -rf ./video_data/*\n",
        "!rm -rf ./raw_audio/*\n",
        "!rm -rf ./denoised_audio/*\n",
        "!rm -rf ./segmented_character_voice/*\n",
        "!rm -rf long_character_anno.txt\n",
        "!rm -rf short_character_anno.txt"
      ],
      "metadata": {
        "id": "hU8LmJlUcF1z"
      },
      "execution_count": null,
      "outputs": []
    },
    {
      "cell_type": "code",
      "source": [
        "#@markdown ### 运行该单元格会将切片和标注复制到谷歌云端硬盘根目录下名为`voice_data`的文件夹下以用作其它用途\n",
        "#@markdown ### Running this codeblock will copy all processed voices & annotations to a folder named `voice_data` under the root of Google Drive for other purpose of usage\n",
        "!mkdir ../drive/MyDrive/voice_data/\n",
        "!cp -rf ./custom_character_voice/ ../drive/MyDrive/voice_data/custom_character_voice/\n",
        "!cp -rf ./segmented_character_voice/ ../drive/MyDrive/voice_data/segmented_character_voice/\n",
        "!cp long_character_anno.txt ../drive/MyDrive/voice_data/long_character_anno.txt\n",
        "!cp short_character_anno.txt ../drive/MyDrive/voice_data/short_character_anno.txt"
      ],
      "metadata": {
        "id": "ZHK6qw4wRF8T"
      },
      "execution_count": null,
      "outputs": []
    },
    {
      "cell_type": "code",
      "source": [],
      "metadata": {
        "id": "jjH2OOP-Se12"
      },
      "execution_count": null,
      "outputs": []
    }
  ]
}